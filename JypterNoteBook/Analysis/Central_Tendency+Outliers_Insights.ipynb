{
 "cells": [
  {
   "cell_type": "markdown",
   "id": "4b0b504c",
   "metadata": {},
   "source": [
    "#### Here we will find all the summary of the dataframe we will find the Change in the dataframe as per the intake of the outliers or we not include them to the columns and how much these outlier affect over dataframe"
   ]
  },
  {
   "cell_type": "markdown",
   "id": "e715b4aa",
   "metadata": {
    "vscode": {
     "languageId": "plaintext"
    }
   },
   "source": [
    "## Import libr"
   ]
  },
  {
   "cell_type": "code",
   "execution_count": 4,
   "id": "162408b8",
   "metadata": {},
   "outputs": [],
   "source": [
    "import pandas as pd\n",
    "import matplotlib.pyplot as plt\n",
    "import seaborn as sns"
   ]
  },
  {
   "cell_type": "code",
   "execution_count": 5,
   "id": "08378ffe",
   "metadata": {},
   "outputs": [],
   "source": [
    "#Importing the File \n",
    "\n",
    "df=pd.read_csv('C:/Users/5530/OneDrive/Desktop/Mall_Customer_Segmentation/Data/customer_arrivals_with_outliers.csv')"
   ]
  },
  {
   "cell_type": "markdown",
   "id": "4fa094a5",
   "metadata": {},
   "source": [
    "### Central Tendency Summary (MEAN,MEDIAN,MODE)"
   ]
  },
  {
   "cell_type": "code",
   "execution_count": 6,
   "id": "c90daade",
   "metadata": {},
   "outputs": [
    {
     "name": "stdout",
     "output_type": "stream",
     "text": [
      "Mean Spend: 12192.49\n",
      "Median Spend: 11888.00\n",
      "Mode Spend: 11888.00\n"
     ]
    }
   ],
   "source": [
    "# Central tendency for 'Total Spending'\n",
    "mean_spend = df['Total Spending'].mean()\n",
    "median_spend = df['Total Spending'].median()\n",
    "mode_spend = df['Total Spending'].mode()[0]\n",
    "\n",
    "print(f\"Mean Spend: {mean_spend:.2f}\")\n",
    "print(f\"Median Spend: {median_spend:.2f}\")\n",
    "print(f\"Mode Spend: {mode_spend:.2f}\")"
   ]
  },
  {
   "cell_type": "code",
   "execution_count": null,
   "id": "b8be645c",
   "metadata": {},
   "outputs": [],
   "source": []
  }
 ],
 "metadata": {
  "kernelspec": {
   "display_name": "Python (myenv)",
   "language": "python",
   "name": "myenv"
  },
  "language_info": {
   "codemirror_mode": {
    "name": "ipython",
    "version": 3
   },
   "file_extension": ".py",
   "mimetype": "text/x-python",
   "name": "python",
   "nbconvert_exporter": "python",
   "pygments_lexer": "ipython3",
   "version": "3.12.3"
  }
 },
 "nbformat": 4,
 "nbformat_minor": 5
}
