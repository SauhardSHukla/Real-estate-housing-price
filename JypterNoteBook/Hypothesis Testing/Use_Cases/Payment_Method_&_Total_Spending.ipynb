{
 "cells": [
  {
   "cell_type": "markdown",
   "id": "a2187041",
   "metadata": {},
   "source": [
    "#### Coding the program to find is there a significant difference btw all the Payment methods and there spending "
   ]
  },
  {
   "cell_type": "code",
   "execution_count": null,
   "id": "8ca11ae6",
   "metadata": {},
   "outputs": [],
   "source": [
    "# Import the file csv to get the columns Data and the pandas lib.\n",
    "import pandas as pd\n",
    "\n",
    "df=pd.read_csv('C:/Users/5530/OneDrive/Desktop/Mall_Customer_Segmentation/Data_files/customer_arrivals_removed_outliers_.csv')"
   ]
  },
  {
   "cell_type": "code",
   "execution_count": 24,
   "id": "5410f81a",
   "metadata": {},
   "outputs": [],
   "source": [
    "# import the function form the file \n",
    "\n",
    "import sys \n",
    "sys.path.append(\"..\")\n",
    "\n",
    "from Assumption_check import check_equal_variance,check_Normality"
   ]
  },
  {
   "cell_type": "markdown",
   "id": "8460e8fb",
   "metadata": {},
   "source": [
    "#### 1. Checking the all the methods Name"
   ]
  },
  {
   "cell_type": "code",
   "execution_count": 25,
   "id": "93b2f228",
   "metadata": {},
   "outputs": [
    {
     "data": {
      "text/plain": [
       "array(['UPI', 'Card', 'Cash'], dtype=object)"
      ]
     },
     "execution_count": 25,
     "metadata": {},
     "output_type": "execute_result"
    }
   ],
   "source": [
    "#Checking all the methods\n",
    "\n",
    "df['Payment_Method'].unique()"
   ]
  },
  {
   "cell_type": "markdown",
   "id": "f0d26093",
   "metadata": {},
   "source": [
    "#### 2. Spliting the Groups"
   ]
  },
  {
   "cell_type": "code",
   "execution_count": 26,
   "id": "759d0fb1",
   "metadata": {},
   "outputs": [],
   "source": [
    "# Grouping all the Payment Methods\n",
    "\n",
    "payment_Group =[\n",
    "  df[df['Payment_Method']== method]['Total Spending'].dropna()\n",
    "  for method in df['Payment_Method'].unique()\n",
    "]"
   ]
  },
  {
   "cell_type": "markdown",
   "id": "abb69e45",
   "metadata": {},
   "source": [
    "#### 3. Checking criteria of all the Methods"
   ]
  },
  {
   "cell_type": "code",
   "execution_count": 27,
   "id": "af37b335",
   "metadata": {},
   "outputs": [
    {
     "name": "stdout",
     "output_type": "stream",
     "text": [
      "Checking the normality of the Group Group\n",
      "\n",
      "Shapiro test result statisticcs:0.9489 , p-value:0.0128\n",
      "\n",
      " ❌ Not Likely normal distribution.\n",
      "------------------------------------------------------------\n",
      "Checking the normality of the Group Group\n",
      "\n",
      "Shapiro test result statisticcs:0.9636 , p-value:0.0253\n",
      "\n",
      " ❌ Not Likely normal distribution.\n",
      "------------------------------------------------------------\n",
      "Checking the normality of the Group Group\n",
      "\n",
      "Shapiro test result statisticcs:0.9572 , p-value:0.0450\n",
      "\n",
      " ❌ Not Likely normal distribution.\n",
      "------------------------------------------------------------\n"
     ]
    }
   ],
   "source": [
    "for method in df['Payment_Method'].unique():\n",
    "  check_Normality(df[df['Payment_Method']== method]['Total Spending'].dropna())"
   ]
  },
  {
   "cell_type": "markdown",
   "id": "5fcc13ca",
   "metadata": {},
   "source": [
    "#### 4.  Run Kruskal-Wallis"
   ]
  },
  {
   "cell_type": "markdown",
   "id": "2b0a7ae5",
   "metadata": {},
   "source": [
    "##### Working with lots of group there are big chance of there gone be one or many group that fall under the normal Distribution"
   ]
  },
  {
   "cell_type": "code",
   "execution_count": 28,
   "id": "e6a748c1",
   "metadata": {},
   "outputs": [
    {
     "name": "stdout",
     "output_type": "stream",
     "text": [
      "Kruskal-Wallis Test:\n",
      "H = 1.1353, p = 0.5668\n",
      "\n",
      "Significant difference\n"
     ]
    }
   ],
   "source": [
    "from scipy.stats import kruskal\n",
    "\n",
    "#Running the kruskal method\n",
    "kruskal_stat, p_val = kruskal(*payment_Group)\n",
    "print(f\"Kruskal-Wallis Test:\\nH = {kruskal_stat:.4f}, p = {p_val:.4f}\\n\")\n",
    "\n",
    "#Checking the significane\n",
    "if p_val> 0.05:\n",
    "  print(f\"Significant difference\")\n",
    "else:\n",
    "  print(f'None significant difference')"
   ]
  },
  {
   "cell_type": "markdown",
   "id": "4e7da81e",
   "metadata": {},
   "source": [
    "#### Now we have a idea that there is the significant difference so we can know which group effect more which effect less "
   ]
  },
  {
   "cell_type": "code",
   "execution_count": 29,
   "id": "66828d7a",
   "metadata": {},
   "outputs": [
    {
     "name": "stdout",
     "output_type": "stream",
     "text": [
      "📊 Dunn Test Results (holm-corrected p-values):\n",
      "          Card      Cash       UPI\n",
      "Card  1.000000  0.965862  0.965862\n",
      "Cash  0.965862  1.000000  0.873215\n",
      "UPI   0.965862  0.873215  1.000000\n"
     ]
    }
   ],
   "source": [
    "#Import the function\n",
    "import scikit_posthocs as sp\n",
    "\n",
    "#Creation of subset and Running the Dunn Test\n",
    "subset = df[['Payment_Method', 'Total Spending']].dropna()\n",
    "dunn_result = sp.posthoc_dunn(subset, val_col='Total Spending', group_col='Payment_Method', p_adjust='holm')\n",
    "\n",
    "print(\"📊 Dunn Test Results (holm-corrected p-values):\")\n",
    "print(dunn_result)"
   ]
  },
  {
   "cell_type": "markdown",
   "id": "5d0f256b",
   "metadata": {},
   "source": [
    "##### Visual representation of the Dunn test"
   ]
  },
  {
   "cell_type": "code",
   "execution_count": 30,
   "id": "521d303f",
   "metadata": {},
   "outputs": [
    {
     "data": {
      "image/png": "[encoded data removed]",
      "text/plain": [
       "<Figure size 640x480 with 2 Axes>"
      ]
     },
     "metadata": {},
     "output_type": "display_data"
    }
   ],
   "source": [
    "import seaborn as sns\n",
    "import matplotlib.pyplot as plt\n",
    "\n",
    "sns.heatmap(dunn_result,fmt=\".3f\",cmap='YlGnBu',annot=True)\n",
    "plt.title(\"Dunn Post-Hoc Test (p-values)\")\n",
    "plt.show()"
   ]
  }
 ],
 "metadata": {
  "kernelspec": {
   "display_name": "Python (myenv)",
   "language": "python",
   "name": "myenv"
  },
  "language_info": {
   "codemirror_mode": {
    "name": "ipython",
    "version": 3
   },
   "file_extension": ".py",
   "mimetype": "text/x-python",
   "name": "python",
   "nbconvert_exporter": "python",
   "pygments_lexer": "ipython3",
   "version": "3.12.3"
  }
 },
 "nbformat": 4,
 "nbformat_minor": 5
}
