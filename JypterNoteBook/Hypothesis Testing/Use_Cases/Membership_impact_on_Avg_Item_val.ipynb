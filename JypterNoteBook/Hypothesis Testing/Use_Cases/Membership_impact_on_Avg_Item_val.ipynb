{
 "cells": [
  {
   "cell_type": "markdown",
   "id": "d2987162",
   "metadata": {},
   "source": [
    "#### Do Membership Levels Influence Average Item Value?"
   ]
  },
  {
   "cell_type": "code",
   "execution_count": 2,
   "id": "49a7f649",
   "metadata": {},
   "outputs": [],
   "source": [
    "# Import the file csv to get the columns Data and the pandas lib.\n",
    "import pandas as pd\n",
    "\n",
    "df=pd.read_csv('C:/Users/5530/OneDrive/Desktop/Mall_Customer_Segmentation/Data/customer_arrivals_removed_outliers_.csv')"
   ]
  },
  {
   "cell_type": "code",
   "execution_count": 3,
   "id": "ee3f8cfb",
   "metadata": {},
   "outputs": [],
   "source": [
    "# import the function form the file \n",
    "\n",
    "import sys \n",
    "sys.path.append(\"..\")\n",
    "\n",
    "from Assumption_check import check_equal_variance,check_Normality"
   ]
  },
  {
   "cell_type": "markdown",
   "id": "d0b75963",
   "metadata": {},
   "source": [
    "#### 1. Create Group"
   ]
  },
  {
   "cell_type": "code",
   "execution_count": 4,
   "id": "e3ba56f9",
   "metadata": {},
   "outputs": [],
   "source": [
    "group_data = [\n",
    "    df[df['Membership_Status'] == m]['Avg_Item_Value'].dropna()\n",
    "    for m in df['Membership_Status'].unique()\n",
    "]"
   ]
  },
  {
   "cell_type": "markdown",
   "id": "4f6ca307",
   "metadata": {},
   "source": [
    "#### 2. Check normality of each group"
   ]
  },
  {
   "cell_type": "code",
   "execution_count": 5,
   "id": "11159138",
   "metadata": {},
   "outputs": [
    {
     "name": "stdout",
     "output_type": "stream",
     "text": [
      "Checking the normality of the Group Gold\n",
      "\n",
      "Shapiro test result statisticcs:0.9552 , p-value:0.0195\n",
      "\n",
      " ❌ Not Likely normal distribution.\n",
      "------------------------------------------------------------\n",
      "Checking the normality of the Group Regular\n",
      "\n",
      "Shapiro test result statisticcs:0.8978 , p-value:0.0001\n",
      "\n",
      " ❌ Not Likely normal distribution.\n",
      "------------------------------------------------------------\n",
      "Checking the normality of the Group Platinum\n",
      "\n",
      "Shapiro test result statisticcs:0.9339 , p-value:0.0015\n",
      "\n",
      " ❌ Not Likely normal distribution.\n",
      "------------------------------------------------------------\n"
     ]
    }
   ],
   "source": [
    "for m in df['Membership_Status'].unique():\n",
    "    check_Normality(df[df['Membership_Status'] == m]['Avg_Item_Value'], Group_name=m)"
   ]
  },
  {
   "cell_type": "markdown",
   "id": "6c963a72",
   "metadata": {},
   "source": [
    "#### Checking the Equal Varience of all the Membership "
   ]
  },
  {
   "cell_type": "code",
   "execution_count": 6,
   "id": "d9554cd9",
   "metadata": {},
   "outputs": [
    {
     "name": "stdout",
     "output_type": "stream",
     "text": [
      "Levene Test: p = 0.5470\n"
     ]
    }
   ],
   "source": [
    "from scipy.stats import levene\n",
    "\n",
    "#Running the Levene function\n",
    "levene_stat, p_levene = levene(*group_data)\n",
    "print(f\"Levene Test: p = {p_levene:.4f}\")"
   ]
  },
  {
   "cell_type": "markdown",
   "id": "417312aa",
   "metadata": {},
   "source": [
    "#### => Run Kruskal-Wallis "
   ]
  },
  {
   "cell_type": "code",
   "execution_count": 7,
   "id": "126f085f",
   "metadata": {},
   "outputs": [
    {
     "name": "stdout",
     "output_type": "stream",
     "text": [
      "Kruskal-Wallis: Stats = 4.6096, p = 0.0998\n",
      "\n",
      "Significant difference exists\n"
     ]
    }
   ],
   "source": [
    "from scipy.stats import kruskal\n",
    "\n",
    "#Running Kruskal function\n",
    "kruskal_stat, p_val = kruskal(*group_data)\n",
    "print(f\"Kruskal-Wallis: Stats = {kruskal_stat:.4f}, p = {p_val:.4f}\\n\")\n",
    "\n",
    "#Checking the p_value to know it significance\n",
    "if p_val > 0.05:\n",
    "  print('Significant difference exists')\n",
    "else:\n",
    "  print(' No Significant difference exists')"
   ]
  },
  {
   "cell_type": "markdown",
   "id": "2b51e987",
   "metadata": {},
   "source": [
    "#### => Run Dunn Test"
   ]
  },
  {
   "cell_type": "markdown",
   "id": "757099e7",
   "metadata": {},
   "source": [
    "#### We are going under the Dunn test because there is significant difference exist"
   ]
  },
  {
   "cell_type": "code",
   "execution_count": 8,
   "id": "8bd6e40f",
   "metadata": {},
   "outputs": [
    {
     "name": "stdout",
     "output_type": "stream",
     "text": [
      "📊 Dunn Test Results (holm-corrected p-values):\n",
      "              Gold  Platinum   Regular\n",
      "Gold      1.000000  0.336915  0.460359\n",
      "Platinum  0.336915  1.000000  0.104587\n",
      "Regular   0.460359  0.104587  1.000000\n"
     ]
    }
   ],
   "source": [
    "import scikit_posthocs as sp\n",
    "\n",
    "# Only keep the two columns\n",
    "subset = df[['Membership_Status', 'Avg_Item_Value']].dropna()\n",
    "\n",
    "# Run Dunn’s Test\n",
    "posthoc = sp.posthoc_dunn(subset, val_col='Avg_Item_Value', group_col='Membership_Status', p_adjust='holm')\n",
    "\n",
    "# Display the pairwise comparison p-values\n",
    "print(\"📊 Dunn Test Results (holm-corrected p-values):\")\n",
    "print(posthoc)\n"
   ]
  },
  {
   "cell_type": "markdown",
   "id": "d59c1acd",
   "metadata": {},
   "source": [
    "#### Visual Representation of the boxplot "
   ]
  },
  {
   "cell_type": "code",
   "execution_count": 9,
   "id": "a4e11caa",
   "metadata": {},
   "outputs": [
    {
     "data": {
      "image/png": "[encoded data removed]",
      "text/plain": [
       "<Figure size 640x480 with 1 Axes>"
      ]
     },
     "metadata": {},
     "output_type": "display_data"
    }
   ],
   "source": [
    "import seaborn as sns\n",
    "import matplotlib.pyplot as plt\n",
    "\n",
    "#Visual representation of the membership\n",
    "sns.boxplot(x='Membership_Status', y='Avg_Item_Value', data=df)\n",
    "plt.title(\"Avg Item Value by Membership Status\")\n",
    "plt.show()\n"
   ]
  },
  {
   "cell_type": "markdown",
   "id": "a5c697d8",
   "metadata": {},
   "source": [
    "#### Visual Representation of the Heatmap"
   ]
  },
  {
   "cell_type": "code",
   "execution_count": 10,
   "id": "8d815d58",
   "metadata": {},
   "outputs": [
    {
     "data": {
      "image/png": "[encoded data removed]",
      "text/plain": [
       "<Figure size 640x480 with 2 Axes>"
      ]
     },
     "metadata": {},
     "output_type": "display_data"
    }
   ],
   "source": [
    "#Visual Representation of the Dunn Test \n",
    "\n",
    "sns.heatmap(posthoc, annot=True, cmap=\"YlGnBu\", fmt=\".3f\")\n",
    "plt.title(\"Dunn Post-Hoc Test (p-values)\")\n",
    "plt.show()"
   ]
  },
  {
   "cell_type": "markdown",
   "id": "c3c9dce7",
   "metadata": {},
   "source": [
    "## Calcuate the difference in % btw different membership"
   ]
  },
  {
   "cell_type": "code",
   "execution_count": 13,
   "id": "4badcfc3",
   "metadata": {},
   "outputs": [
    {
     "name": "stdout",
     "output_type": "stream",
     "text": [
      "Membership_Status\n",
      "Gold        120.692308\n",
      "Platinum    131.910448\n",
      "Regular     114.714286\n",
      "Name: Avg_Item_Value, dtype: float64\n"
     ]
    }
   ],
   "source": [
    "groups = df.groupby('Membership_Status')['Avg_Item_Value'].mean()\n",
    "print(groups)"
   ]
  },
  {
   "cell_type": "code",
   "execution_count": 16,
   "id": "c3806e47",
   "metadata": {},
   "outputs": [
    {
     "name": "stdout",
     "output_type": "stream",
     "text": [
      "Gold vs Regular: 5.21% higher\n",
      "Platinum vs Regular: 14.99% higher\n",
      "Platinum vs Gold: 9.29% higher\n",
      "------------------------------------------------------------\n"
     ]
    }
   ],
   "source": [
    "regular = groups['Regular']\n",
    "gold = groups['Gold']\n",
    "platinum = groups['Platinum']\n",
    "\n",
    "# % difference from Regular\n",
    "gold_vs_regular = ((gold - regular) / regular) * 100\n",
    "platinum_vs_regular = ((platinum - regular) / regular) * 100\n",
    "platinum_vs_gold = ((platinum - gold) / gold) * 100\n",
    "\n",
    "print(f\"Gold vs Regular: {gold_vs_regular:.2f}% higher\")\n",
    "print(f\"Platinum vs Regular: {platinum_vs_regular:.2f}% higher\")\n",
    "print(f\"Platinum vs Gold: {platinum_vs_gold:.2f}% higher\")\n",
    "print(\"-\"*60)\n"
   ]
  },
  {
   "cell_type": "markdown",
   "id": "6ef962e7",
   "metadata": {},
   "source": [
    "###  Membership Tier vs. Average Item Value (₹)\n",
    "\n",
    "**Insights:**\n",
    "\n",
    "- **1. Gold members** spend **5.21% more per item** than Regular members.\n",
    "- **2. Platinum members** spend:\n",
    "\n",
    "  - **14.99% more per item** than Regular members\n",
    "  - **9.29% more per item** than Gold members\n",
    "\n",
    "---"
   ]
  },
  {
   "cell_type": "markdown",
   "id": "7494af38",
   "metadata": {},
   "source": []
  }
 ],
 "metadata": {
  "kernelspec": {
   "display_name": "Python (myenv)",
   "language": "python",
   "name": "myenv"
  },
  "language_info": {
   "codemirror_mode": {
    "name": "ipython",
    "version": 3
   },
   "file_extension": ".py",
   "mimetype": "text/x-python",
   "name": "python",
   "nbconvert_exporter": "python",
   "pygments_lexer": "ipython3",
   "version": "3.12.3"
  }
 },
 "nbformat": 4,
 "nbformat_minor": 5
}
