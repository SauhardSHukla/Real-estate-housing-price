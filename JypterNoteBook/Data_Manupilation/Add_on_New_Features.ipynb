{
 "cells": [
  {
   "cell_type": "code",
   "execution_count": null,
   "id": "a44ed4c2",
   "metadata": {},
   "outputs": [
    {
     "data": {
      "text/plain": [
       "'C:/Users/5530/OneDrive/Desktop/Mall_Customer_Segmentation/Data/customer_arrivals.csv'"
      ]
     },
     "execution_count": 41,
     "metadata": {},
     "output_type": "execute_result"
    }
   ],
   "source": [
    "import pandas as pd\n",
    "import numpy as np\n",
    "\n",
    "# Simulate 7 days of hourly customer arrivals using Poisson distribution\n",
    "np.random.seed(42)\n",
    "\n",
    "days = [\"Monday\", \"Tuesday\", \"Wednesday\", \"Thursday\", \"Friday\", \"Saturday\", \"Sunday\"]\n",
    "hours = list(range(9, 19))  # 9 AM to 6 PM (10 hours)\n",
    "\n",
    "total_entries = 200\n",
    "simulated_data = []\n",
    "\n",
    "for i in range(1,total_entries+1):\n",
    "    \n",
    "    day = np.random.choice(days)\n",
    "    hour = np.random.choice(hours)\n",
    "    arrival_count = np.random.poisson(lam=20)\n",
    "    Membership_Status = np.random.choice(['Gold','Platinum','Regular'])\n",
    "    Item_Purchased = np.random.poisson(lam=100)\n",
    "    Payment_Method = np.random.choice(['Card','Cash','UPI'])\n",
    "    simulated_data.append({\"CustomerID\": i, \n",
    "                            \"Day\": day,\n",
    "                            \"Hour\": hour, \n",
    "                            \"Arrival_Count\": arrival_count,\n",
    "                            \"Payment_Method\":Payment_Method,\n",
    "                            \"Item_Purchased\":Item_Purchased,\n",
    "                            \"Membership_Status\":Membership_Status})\n",
    "\n",
    "# data = []\n",
    "# for day in days:\n",
    "#     for hour in hours:\n",
    "#         arrival_count = np.random.poisson(lam=20)  # λ = 20 customers/hour\n",
    "#         data.append({\"Day\": day, \"Hour\": hour, \"Arrival_Count\": arrival_count})\n",
    "\n",
    "df = pd.DataFrame(simulated_data)\n",
    "\n",
    "# Save the dataset\n",
    "dataset_path = \"C:/Users/5530/OneDrive/Desktop/Mall_Customer_Segmentation/Data_files/customer_arrivals.csv\"\n",
    "df.to_csv(dataset_path, index=False)\n",
    "\n",
    "dataset_path\n"
   ]
  },
  {
   "cell_type": "markdown",
   "id": "95c22216",
   "metadata": {},
   "source": [
    "### Creation of the Time feature that help us to find the visit duartion of various customer that have visited the mall"
   ]
  },
  {
   "cell_type": "markdown",
   "id": "ae1f2f81",
   "metadata": {},
   "source": [
    "Adding of the Column in the DataSet :-\n",
    "1. Entry Time\n",
    "2. Exit  Time\n",
    "3. Visit Duration\n"
   ]
  },
  {
   "cell_type": "markdown",
   "id": "fd060286",
   "metadata": {},
   "source": [
    "#### Import Library"
   ]
  },
  {
   "cell_type": "code",
   "execution_count": 42,
   "id": "5688b873",
   "metadata": {},
   "outputs": [],
   "source": [
    "import numpy as np\n",
    "import pandas as pd\n",
    "from datetime import datetime, timedelta"
   ]
  },
  {
   "cell_type": "code",
   "execution_count": 43,
   "id": "e4851fc4",
   "metadata": {},
   "outputs": [],
   "source": [
    "np.random.seed(42)\n",
    "\n",
    "total_entries =200\n",
    "\n",
    "\n",
    "entry_time = np.random.randint(540 , 1260 , size = total_entries)\n",
    "\n",
    "duration  = np.random.randint(10,240,size = total_entries)\n",
    "\n",
    "exit_time  = entry_time + duration\n",
    "\n",
    "df_visit = pd.DataFrame({\n",
    "  \"CustomerID\":(x for x in range(1,total_entries+1)),\n",
    "  \"Entry time_min\":entry_time,\n",
    "  \"Exit time_min\":exit_time ,\n",
    "  \"Duration_min\" :duration\n",
    "})\n",
    "\n",
    "\n",
    "df_visit.head()\n",
    "\n",
    "\n",
    "def min_to_clock(duration):\n",
    "  return "
   ]
  },
  {
   "cell_type": "code",
   "execution_count": 44,
   "id": "57a33f1f",
   "metadata": {},
   "outputs": [],
   "source": [
    "def min_to_clock(duration):\n",
    "  return (datetime(1900,1,1)+timedelta(minutes=duration)).strftime('%I:%M:%p')\n",
    "\n",
    "df_visit['Entry time'] = df_visit['Entry time_min'].apply(min_to_clock)\n",
    "df_visit['Exit time'] = df_visit['Exit time_min'].apply(min_to_clock)\n",
    "\n",
    "\"\"\"  Removing the Old Columns :\n",
    "1. Entry time_min\n",
    "2. Exit_time_min\n",
    "\"\"\"\n",
    "df_visit.drop('Entry time_min',axis=1,inplace=True)\n",
    "df_visit.drop('Exit time_min',axis=1,inplace=True)\n",
    "\n",
    "df_visit[['Entry time','Exit time','Duration_min']].head()\n",
    "\n",
    "\n",
    "dataset_path = \"C:/Users/5530/OneDrive/Desktop/Mall_Customer_Segmentation/Data/Date_time.csv\"\n",
    "df_visit.to_csv(dataset_path, index=False)"
   ]
  }
 ],
 "metadata": {
  "kernelspec": {
   "display_name": "Python (myenv)",
   "language": "python",
   "name": "myenv"
  },
  "language_info": {
   "codemirror_mode": {
    "name": "ipython",
    "version": 3
   },
   "file_extension": ".py",
   "mimetype": "text/x-python",
   "name": "python",
   "nbconvert_exporter": "python",
   "pygments_lexer": "ipython3",
   "version": "3.12.3"
  }
 },
 "nbformat": 4,
 "nbformat_minor": 5
}
