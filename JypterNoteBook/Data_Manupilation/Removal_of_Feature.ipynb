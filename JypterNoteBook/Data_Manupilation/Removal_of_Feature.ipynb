{
 "cells": [
  {
   "cell_type": "markdown",
   "id": "8abf3aac",
   "metadata": {},
   "source": [
    "### Removing the columns that are not needed in the Dataset for the Quires we will add them in future if we want them "
   ]
  },
  {
   "cell_type": "markdown",
   "id": "b45ba474",
   "metadata": {},
   "source": [
    "#### Columns that gone be removed \n",
    "1.  Spending_Score(1-100)"
   ]
  },
  {
   "cell_type": "markdown",
   "id": "f3ed9523",
   "metadata": {},
   "source": [
    "#### Import Library"
   ]
  },
  {
   "cell_type": "code",
   "execution_count": 3,
   "id": "664819aa",
   "metadata": {},
   "outputs": [],
   "source": [
    "import pandas as pd\n",
    "import numpy as np"
   ]
  },
  {
   "cell_type": "code",
   "execution_count": null,
   "id": "a431dcaa",
   "metadata": {},
   "outputs": [
    {
     "name": "stdout",
     "output_type": "stream",
     "text": [
      "✅ Dataset updated and saved successfully at:\n",
      "C:/Users/5530/OneDrive/Desktop/Mall_Customer_Segmentation/Data_files/customer_arrivals_removed_outliers_.csv\n"
     ]
    }
   ],
   "source": [
    "df = pd.read_csv('C:/Users/5530/OneDrive/Desktop/Mall_Customer_Segmentation/Data_files/customer_arrivals_removed_outliers_.csv')\n",
    "df.describe()\n",
    "\n",
    "df.drop('Spending Score (1-100)',axis=1,inplace=True)\n",
    "\n",
    "dataset_path = \"C:/Users/5530/OneDrive/Desktop/Mall_Customer_Segmentation/Data_files/customer_arrivals_removed_outliers_.csv\"\n",
    "df.to_csv(dataset_path, index=False)\n",
    "\n",
    "print(\"✅ Dataset updated and saved successfully at:\")\n",
    "print(dataset_path)\n"
   ]
  }
 ],
 "metadata": {
  "kernelspec": {
   "display_name": "Python (myenv)",
   "language": "python",
   "name": "myenv"
  },
  "language_info": {
   "codemirror_mode": {
    "name": "ipython",
    "version": 3
   },
   "file_extension": ".py",
   "mimetype": "text/x-python",
   "name": "python",
   "nbconvert_exporter": "python",
   "pygments_lexer": "ipython3",
   "version": "3.12.3"
  }
 },
 "nbformat": 4,
 "nbformat_minor": 5
}
