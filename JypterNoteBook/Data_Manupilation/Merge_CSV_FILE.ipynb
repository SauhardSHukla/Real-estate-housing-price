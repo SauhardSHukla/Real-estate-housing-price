{
 "cells": [
  {
   "cell_type": "markdown",
   "id": "07d46025",
   "metadata": {},
   "source": [
    "#### Joining the Customer Arrival.csv file and the Mall Customer.csv file"
   ]
  },
  {
   "cell_type": "code",
   "execution_count": 14,
   "id": "e63b52bb",
   "metadata": {},
   "outputs": [],
   "source": [
    "#Import the important files\n",
    "\n",
    "import pandas as pd"
   ]
  },
  {
   "cell_type": "code",
   "execution_count": 16,
   "id": "21cbda02",
   "metadata": {},
   "outputs": [],
   "source": [
    "\n",
    "df_mall = pd.read_csv('C:/Users/5530/OneDrive/Desktop/Mall_Customer_Segmentation/Data/Mall_Customers.csv')\n",
    "df_customer = pd.read_csv('C:/Users/5530/OneDrive/Desktop/Mall_Customer_Segmentation/Data/customer_arrivals.csv')\n",
    "df_datetime = pd.read_csv('C:/Users/5530/OneDrive/Desktop/Mall_Customer_Segmentation/Data/Date_time.csv')\n",
    "\n",
    "# Step 1: Merge df_mall and df_customer on 'CustomerID'\n",
    "merged_df_1 = pd.merge(df_mall, df_customer, on='CustomerID', how='inner')\n",
    "\n",
    "# Step 2: Merge the result with df_datetime on 'CustomerID'\n",
    "combined_df = pd.merge(merged_df_1, df_datetime, on='CustomerID', how='inner')\n",
    "\n",
    "# Step 3: Drop duplicates if any\n",
    "combined_df.drop_duplicates(inplace=True)\n",
    "\n",
    "\n",
    "combined_df.to_csv(\"C:/Users/5530/OneDrive/Desktop/Mall_Customer_Segmentation/Data/customer_arrivals_combined.csv\", index=False)\n"
   ]
  }
 ],
 "metadata": {
  "kernelspec": {
   "display_name": "Python (myenv)",
   "language": "python",
   "name": "myenv"
  },
  "language_info": {
   "codemirror_mode": {
    "name": "ipython",
    "version": 3
   },
   "file_extension": ".py",
   "mimetype": "text/x-python",
   "name": "python",
   "nbconvert_exporter": "python",
   "pygments_lexer": "ipython3",
   "version": "3.12.3"
  }
 },
 "nbformat": 4,
 "nbformat_minor": 5
}
