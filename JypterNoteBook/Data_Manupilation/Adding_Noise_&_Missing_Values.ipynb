{
 "cells": [
  {
   "cell_type": "markdown",
   "id": "edbc094a",
   "metadata": {},
   "source": [
    "#### Adding the Noise and the Missisng values in the Dataset to amke it more real "
   ]
  },
  {
   "cell_type": "markdown",
   "id": "2fe9f639",
   "metadata": {
    "vscode": {
     "languageId": "plaintext"
    }
   },
   "source": [
    "### Import the Lib."
   ]
  },
  {
   "cell_type": "code",
   "execution_count": 3,
   "id": "cdf0ef90",
   "metadata": {},
   "outputs": [],
   "source": [
    "import random\n",
    "import pandas as pd"
   ]
  },
  {
   "cell_type": "code",
   "execution_count": null,
   "id": "20f0907a",
   "metadata": {},
   "outputs": [],
   "source": [
    "\n",
    "#File path \n",
    "combied_df = pd.read_csv('C:/Users/5530/OneDrive/Desktop/Mall_Customer_Segmentation/Data/customer_arrivals_with_outliers.csv')\n",
    "\n",
    "#Adding Typos\n",
    "combied_df.loc[random.sample(range(len(combied_df)),25),\n",
    "               'Gender'] = random.choices(['Femle','Mall','Ale','Women','Girl'],k=25)\n",
    "\n",
    "#Adding NAN values\n",
    "combied_df.loc[random.sample(range(len(combied_df)),5),'Total Spending'] = None\n",
    "\n",
    "#Creation of the new Outlier file\n",
    "combied_df.to_csv('C:/Users/5530/OneDrive/Desktop/Mall_Customer_Segmentation/Data/customer_arrivals_with_outliers.csv', index=False)\n"
   ]
  }
 ],
 "metadata": {
  "kernelspec": {
   "display_name": "Python 3",
   "language": "python",
   "name": "python3"
  },
  "language_info": {
   "codemirror_mode": {
    "name": "ipython",
    "version": 3
   },
   "file_extension": ".py",
   "mimetype": "text/x-python",
   "name": "python",
   "nbconvert_exporter": "python",
   "pygments_lexer": "ipython3",
   "version": "3.12.3"
  }
 },
 "nbformat": 4,
 "nbformat_minor": 5
}
