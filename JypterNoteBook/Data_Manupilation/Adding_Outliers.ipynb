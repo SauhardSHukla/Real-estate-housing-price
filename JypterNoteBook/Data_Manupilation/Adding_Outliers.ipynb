{
 "cells": [
  {
   "cell_type": "markdown",
   "id": "f6b84dad",
   "metadata": {},
   "source": [
    "##### Adding the outliers in the dataset of the customer_arrival_combined.csv file "
   ]
  },
  {
   "cell_type": "markdown",
   "id": "810dc84c",
   "metadata": {},
   "source": [
    "### Importing the Lib."
   ]
  },
  {
   "cell_type": "code",
   "execution_count": 10,
   "id": "a88ca0d2",
   "metadata": {},
   "outputs": [],
   "source": [
    "import pandas as pd\n",
    "import random"
   ]
  },
  {
   "cell_type": "code",
   "execution_count": null,
   "id": "caee8167",
   "metadata": {},
   "outputs": [
    {
     "name": "stdout",
     "output_type": "stream",
     "text": [
      "[105, 137, 145, 80, 144]\n"
     ]
    }
   ],
   "source": [
    "#File path \n",
    "combied_df = pd.read_csv('C:/Users/5530/OneDrive/Desktop/Mall_Customer_Segmentation/Data/customer_arrivals_combined.csv')\n",
    "\n",
    "#Getting the index we want to find the outliers\n",
    "index_no=random.sample(range(len(combied_df)),5)\n",
    "print(index_no)\n",
    "\n",
    "#Chnage the Values\n",
    "combied_df.loc[index_no,'Duration_min'] = [1,600,800,900,1000]\n",
    "\n",
    "#Creation of the new Outlier file\n",
    "combied_df.to_csv('C:/Users/5530/OneDrive/Desktop/Mall_Customer_Segmentation/Data_files/customer_arrivals_with_outliers.csv', index=False)\n"
   ]
  }
 ],
 "metadata": {
  "kernelspec": {
   "display_name": "Python (myenv)",
   "language": "python",
   "name": "myenv"
  },
  "language_info": {
   "codemirror_mode": {
    "name": "ipython",
    "version": 3
   },
   "file_extension": ".py",
   "mimetype": "text/x-python",
   "name": "python",
   "nbconvert_exporter": "python",
   "pygments_lexer": "ipython3",
   "version": "3.12.3"
  }
 },
 "nbformat": 4,
 "nbformat_minor": 5
}
