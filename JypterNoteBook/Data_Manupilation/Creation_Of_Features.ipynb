{
 "cells": [
  {
   "cell_type": "markdown",
   "id": "70da3e98",
   "metadata": {},
   "source": [
    "#### Here we will add more new feature for making the dataset more efficient for the use "
   ]
  },
  {
   "cell_type": "markdown",
   "id": "46afa683",
   "metadata": {},
   "source": [
    "1. Adding Total Spending in the Dataset\n",
    "2. Adding the Avg. item Price column in the Dataset"
   ]
  },
  {
   "cell_type": "markdown",
   "id": "76392c0c",
   "metadata": {
    "vscode": {
     "languageId": "plaintext"
    }
   },
   "source": [
    "## Import Library "
   ]
  },
  {
   "cell_type": "code",
   "execution_count": 10,
   "id": "5100de8a",
   "metadata": {},
   "outputs": [],
   "source": [
    "import numpy as np\n",
    "import pandas as pd"
   ]
  },
  {
   "cell_type": "code",
   "execution_count": null,
   "id": "a52af02e",
   "metadata": {},
   "outputs": [
    {
     "name": "stdout",
     "output_type": "stream",
     "text": [
      "✅ Dataset updated and saved successfully at:\n",
      "C:/Users/5530/OneDrive/Desktop/Mall_Customer_Segmentation/Data/customer_arrivals_with_outliers.csv\n"
     ]
    }
   ],
   "source": [
    "df = pd.read_csv('C:/Users/5530/OneDrive/Desktop/Mall_Customer_Segmentation/Data/customer_arrivals_with_outliers.csv')\n",
    "# df.describe()\n",
    "\n",
    "df['Avg_Item_Value']=np.random.randint(50,201,size = len(df))\n",
    "\n",
    "df['Total Spending'] = df['Avg_Item_Value'] *df['Item_Purchased']\n",
    "\n",
    "dataset_path = \"C:/Users/5530/OneDrive/Desktop/Mall_Customer_Segmentation/Data_files/customer_arrivals_with_outliers.csv\"\n",
    "df.to_csv(dataset_path, index=False)\n",
    "\n",
    "print(\"✅ Dataset updated and saved successfully at:\")\n",
    "print(dataset_path)"
   ]
  }
 ],
 "metadata": {
  "kernelspec": {
   "display_name": "Python (myenv)",
   "language": "python",
   "name": "myenv"
  },
  "language_info": {
   "codemirror_mode": {
    "name": "ipython",
    "version": 3
   },
   "file_extension": ".py",
   "mimetype": "text/x-python",
   "name": "python",
   "nbconvert_exporter": "python",
   "pygments_lexer": "ipython3",
   "version": "3.12.3"
  }
 },
 "nbformat": 4,
 "nbformat_minor": 5
}
