{
 "cells": [
  {
   "cell_type": "code",
   "execution_count": 6,
   "id": "a44ed4c2",
   "metadata": {},
   "outputs": [
    {
     "data": {
      "text/plain": [
       "'C:/Users/5530/OneDrive/Desktop/Mall_Customer_Segmentation/Data/customer_arrivals.csv'"
      ]
     },
     "execution_count": 6,
     "metadata": {},
     "output_type": "execute_result"
    }
   ],
   "source": [
    "import pandas as pd\n",
    "import numpy as np\n",
    "\n",
    "# Simulate 7 days of hourly customer arrivals using Poisson distribution\n",
    "np.random.seed(42)\n",
    "\n",
    "days = [\"Monday\", \"Tuesday\", \"Wednesday\", \"Thursday\", \"Friday\", \"Saturday\", \"Sunday\"]\n",
    "hours = list(range(9, 19))  # 9 AM to 6 PM (10 hours)\n",
    "\n",
    "total_entries = 200\n",
    "simulated_data = []\n",
    "\n",
    "for i in range(1,total_entries+1):\n",
    "    \n",
    "    day = np.random.choice(days)\n",
    "    hour = np.random.choice(hours)\n",
    "    arrival_count = np.random.poisson(lam=20)\n",
    "    simulated_data.append({\"CustomerID\": i , \"Day\": day, \"Hour\": hour, \"Arrival_Count\": arrival_count})\n",
    "\n",
    "# data = []\n",
    "# for day in days:\n",
    "#     for hour in hours:\n",
    "#         arrival_count = np.random.poisson(lam=20)  # λ = 20 customers/hour\n",
    "#         data.append({\"Day\": day, \"Hour\": hour, \"Arrival_Count\": arrival_count})\n",
    "\n",
    "df = pd.DataFrame(simulated_data)\n",
    "\n",
    "# Save the dataset\n",
    "dataset_path = \"C:/Users/5530/OneDrive/Desktop/Mall_Customer_Segmentation/Data/customer_arrivals.csv\"\n",
    "df.to_csv(dataset_path, index=False)\n",
    "\n",
    "dataset_path\n"
   ]
  }
 ],
 "metadata": {
  "kernelspec": {
   "display_name": "Python (myenv)",
   "language": "python",
   "name": "myenv"
  },
  "language_info": {
   "codemirror_mode": {
    "name": "ipython",
    "version": 3
   },
   "file_extension": ".py",
   "mimetype": "text/x-python",
   "name": "python",
   "nbconvert_exporter": "python",
   "pygments_lexer": "ipython3",
   "version": "3.12.3"
  }
 },
 "nbformat": 4,
 "nbformat_minor": 5
}
