{
 "cells": [
  {
   "cell_type": "markdown",
   "id": "8468feae",
   "metadata": {},
   "source": [
    "### Removing the all the NAN or missing values form the numerical columns"
   ]
  },
  {
   "cell_type": "markdown",
   "id": "6f8addd7",
   "metadata": {},
   "source": [
    "### Import lib."
   ]
  },
  {
   "cell_type": "code",
   "execution_count": 13,
   "id": "4cb570be",
   "metadata": {},
   "outputs": [],
   "source": [
    "import pandas as pd"
   ]
  },
  {
   "cell_type": "code",
   "execution_count": null,
   "id": "58793569",
   "metadata": {},
   "outputs": [],
   "source": [
    "# Importing the CSV file \n",
    "\n",
    "df=pd.read_csv('C:/Users/5530/OneDrive/Desktop/Mall_Customer_Segmentation/Data/customer_arrivals_with_outliers.csv')"
   ]
  },
  {
   "cell_type": "code",
   "execution_count": 15,
   "id": "90ed1531",
   "metadata": {},
   "outputs": [],
   "source": [
    "\"\"\" \n",
    "Creation of the function to handle all the cleaning process in the dataset which deals\n",
    "with  the numerical columns  NAN and missing values, we can also use this function to handle the \n",
    "other columns too\n",
    "\"\"\"\n",
    "\n",
    "def missing_values(df):\n",
    "  \n",
    "  \"\"\"\n",
    "    Handles missing values in a DataFrame.\n",
    "    - Fills numerical columns with their median.\n",
    "    - Fills categorical columns with their mode.\n",
    "    \n",
    "    Returns a cleaned copy of the original DataFrame.\n",
    "    \"\"\"\n",
    "  \n",
    "  copy_df = df.copy()\n",
    "\n",
    "  #Handling missing numerical col \n",
    "  num_cols = copy_df.select_dtypes(include=['float64','int64']).columns\n",
    "  for values in num_cols:\n",
    "    if copy_df[values].isnull().sum() > 0:\n",
    "      copy_df[values]=  copy_df[values].fillna(copy_df[values].median())\n",
    "\n",
    "  #Handling missing categorical col\n",
    "  cat_cols = copy_df.select_dtypes(include=['object']).columns\n",
    "  for values in cat_cols:\n",
    "    if not values:\n",
    "      copy_df[values]=  copy_df[values].fillna(copy_df[values].mode()[0])\n",
    "\n",
    "  return copy_df"
   ]
  },
  {
   "cell_type": "code",
   "execution_count": null,
   "id": "f7a29c2e",
   "metadata": {},
   "outputs": [],
   "source": [
    "new_df=missing_values(df)\n",
    "\n",
    "#Getting the CSV file updated\n",
    "new_df.to_csv('C:/Users/5530/OneDrive/Desktop/Mall_Customer_Segmentation/Data/customer_arrivals_with_outliers.csv',index=False)"
   ]
  }
 ],
 "metadata": {
  "kernelspec": {
   "display_name": "Python (myenv)",
   "language": "python",
   "name": "myenv"
  },
  "language_info": {
   "codemirror_mode": {
    "name": "ipython",
    "version": 3
   },
   "file_extension": ".py",
   "mimetype": "text/x-python",
   "name": "python",
   "nbconvert_exporter": "python",
   "pygments_lexer": "ipython3",
   "version": "3.12.3"
  }
 },
 "nbformat": 4,
 "nbformat_minor": 5
}
