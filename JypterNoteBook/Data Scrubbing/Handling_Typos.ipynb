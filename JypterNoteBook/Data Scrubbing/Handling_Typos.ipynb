{
 "cells": [
  {
   "cell_type": "markdown",
   "id": "e844fa61",
   "metadata": {},
   "source": [
    "### Removing all the typos for the Dataset using the reusable code for the better efficiency"
   ]
  },
  {
   "cell_type": "markdown",
   "id": "541420a1",
   "metadata": {},
   "source": [
    "### Import Lib."
   ]
  },
  {
   "cell_type": "code",
   "execution_count": 5,
   "id": "935e8b54",
   "metadata": {},
   "outputs": [],
   "source": [
    "import pandas as pd\n",
    "from rapidfuzz import fuzz,process"
   ]
  },
  {
   "cell_type": "code",
   "execution_count": null,
   "id": "abe4f1d5",
   "metadata": {},
   "outputs": [],
   "source": [
    "df=pd.read_csv('C:/Users/5530/OneDrive/Desktop/Mall_Customer_Segmentation/Data_files/customer_arrivals_with_outliers.csv')"
   ]
  },
  {
   "cell_type": "code",
   "execution_count": 9,
   "id": "fd693d2f",
   "metadata": {},
   "outputs": [],
   "source": [
    "\"\"\" \n",
    "Creation of the function to handle all the cleaning process in the dataset which deals\n",
    "with all the Gender column typos we can also use this function to handle the \n",
    "other columns too\n",
    "\"\"\"\n",
    "\n",
    "def cleaning_typos(df,column_name,valid_values, threshold=85,fill_value='other'):\n",
    "  \"\"\"\n",
    "    Cleans a categorical column:\n",
    "    1. Fills missing values with the most frequent value (mode).\n",
    "    2. Corrects typos using fuzzy matching based on similarity to valid values.\n",
    "\n",
    "    Parameters:\n",
    "    - df: DataFrame\n",
    "    - column_name: Column to clean (e.g., 'Gender')\n",
    "    - valid_values: List of valid/expected values (e.g., ['male', 'female'])\n",
    "    - threshold: Minimum match score for fuzzy matching (default = 85)\n",
    "    - fill_value: Value to assign when no match is found (default = 'Other')\n",
    "\n",
    "    Returns:\n",
    "    - df: Cleaned DataFrame\n",
    "    \"\"\"\n",
    "  \n",
    "  # step1: Handle Missing value in the accessing column\n",
    "  if df[column_name].isnull().any():\n",
    "    most_freq = df[column_name].mode()[0]\n",
    "    df[column_name]=df[column_name].fillna(most_freq)\n",
    "\n",
    "  #Step2: Handle the typos in the accessing column\n",
    "\n",
    "  #1. Find all the unique values in the columns\n",
    "  unique_values = df[column_name].dropna().astype(str).str.lower().unique()\n",
    "  mapping_dict= {}\n",
    "\n",
    "  #2. Using teh fuzzy to find the matching values\n",
    "  for value in unique_values:\n",
    "    match,score,_= process.extractOne(value,valid_values,scorer=fuzz.ratio)\n",
    "\n",
    "    if score>=threshold:\n",
    "      mapping_dict[value]=match.title()\n",
    "    else:\n",
    "      mapping_dict[value] = fill_value\n",
    "  \n",
    "  df[column_name] = df[column_name].astype(str).str.lower().map(mapping_dict)\n",
    "\n",
    "  return df"
   ]
  },
  {
   "cell_type": "code",
   "execution_count": null,
   "id": "8e732ca2",
   "metadata": {},
   "outputs": [],
   "source": [
    "valid_genders = ['male', 'female']\n",
    "\n",
    "df = cleaning_typos(df, 'Gender', valid_genders)\n",
    "\n",
    "df.to_csv('C:/Users/5530/OneDrive/Desktop/Mall_Customer_Segmentation/Data_files/customer_arrivals_with_outliers.csv',index=False)"
   ]
  }
 ],
 "metadata": {
  "kernelspec": {
   "display_name": "Python (myenv)",
   "language": "python",
   "name": "myenv"
  },
  "language_info": {
   "codemirror_mode": {
    "name": "ipython",
    "version": 3
   },
   "file_extension": ".py",
   "mimetype": "text/x-python",
   "name": "python",
   "nbconvert_exporter": "python",
   "pygments_lexer": "ipython3",
   "version": "3.12.3"
  }
 },
 "nbformat": 4,
 "nbformat_minor": 5
}
