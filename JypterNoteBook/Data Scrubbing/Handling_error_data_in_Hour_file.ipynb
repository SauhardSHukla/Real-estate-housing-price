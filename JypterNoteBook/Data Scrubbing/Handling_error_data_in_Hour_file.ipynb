{
 "cells": [
  {
   "cell_type": "markdown",
   "id": "7b9b98cc",
   "metadata": {},
   "source": [
    "#### ***Checking the error values of the Hr column there is incorrect typos of the entry time in Hour columns***\n"
   ]
  },
  {
   "cell_type": "code",
   "execution_count": 11,
   "id": "5c6a948e",
   "metadata": {},
   "outputs": [],
   "source": [
    "# Import the file csv to get the columns Data and the pandas lib.\n",
    "import pandas as pd\n",
    "\n",
    "df=pd.read_csv('C:/Users/5530/OneDrive/Desktop/Mall_Customer_Segmentation/Data_files/customer_arrivals_removed_outliers_.csv')"
   ]
  },
  {
   "cell_type": "markdown",
   "id": "26f52d4e",
   "metadata": {},
   "source": [
    "#### Handling the Data format '1:43:PM' TO '13:43'"
   ]
  },
  {
   "cell_type": "code",
   "execution_count": 12,
   "id": "2e46fc5b",
   "metadata": {},
   "outputs": [],
   "source": [
    "# # Step 1: Fix malformed suffixes like ':AM' or ':PM'\n",
    "# df['Entry time'] = df['Entry time'].str.replace(':AM', ' AM', regex=False)\n",
    "# df['Entry time'] = df['Entry time'].str.replace(':PM', ' PM', regex=False)\n",
    "\n",
    "# # Step 2: Convert to datetime (to extract hour & minute)\n",
    "# df['Entry time'] = pd.to_datetime(df['Entry time'], format='%I:%M %p')\n",
    "\n",
    "# # Step 3: Extract only time in 24-hour format (HH:MM)\n",
    "# df['Entry time'] = df['Entry time'].dt.strftime('%H:%M')\n",
    "\n",
    "# print(df[['Entry time']].head())"
   ]
  },
  {
   "cell_type": "code",
   "execution_count": 13,
   "id": "b7035b67",
   "metadata": {},
   "outputs": [],
   "source": [
    "# # Step 1: Fix malformed suffixes like ':AM' or ':PM'\n",
    "# df['Exit time'] = df['Exit time'].str.replace(':AM', ' AM', regex=False)\n",
    "# df['Exit time'] = df['Exit time'].str.replace(':PM', ' PM', regex=False)\n",
    "\n",
    "# # Step 2: Convert to datetime (to extract hour & minute)\n",
    "# df['Exit time'] = pd.to_datetime(df['Exit time'], format='%I:%M %p')\n",
    "\n",
    "# # Step 3: Extract only time in 24-hour format (HH:MM)\n",
    "# df['Exit time'] = df['Exit time'].dt.strftime('%H:%M')\n",
    "\n",
    "# print(df[['Exit time']].head())"
   ]
  },
  {
   "cell_type": "markdown",
   "id": "bd5fc2c6",
   "metadata": {},
   "source": [
    "#### Changing the Hour column with the Hour time form the Entry Time"
   ]
  },
  {
   "cell_type": "code",
   "execution_count": 14,
   "id": "1201ba0e",
   "metadata": {},
   "outputs": [
    {
     "name": "stdout",
     "output_type": "stream",
     "text": [
      "   Hour\n",
      "0    10\n",
      "1    16\n",
      "2    13\n",
      "3    10\n",
      "4    10\n"
     ]
    }
   ],
   "source": [
    "# Step 1: Convert Entry time to datetime format\n",
    "df['Entry_time_Hr']=pd.to_datetime(df['Entry time'], format='%H:%M')\n",
    "\n",
    "# Step 2: Extract hour into a new column\n",
    "df['Hour'] = df['Entry_time_Hr'].dt.hour\n",
    "\n",
    "print(df[['Hour']].head())"
   ]
  },
  {
   "cell_type": "code",
   "execution_count": 15,
   "id": "39bdbc53",
   "metadata": {},
   "outputs": [],
   "source": [
    "df.to_csv('C:/Users/5530/OneDrive/Desktop/Mall_Customer_Segmentation/Data_files/customer_arrivals_removed_outliers_.csv',index=False)"
   ]
  }
 ],
 "metadata": {
  "kernelspec": {
   "display_name": "Python (myenv)",
   "language": "python",
   "name": "myenv"
  },
  "language_info": {
   "codemirror_mode": {
    "name": "ipython",
    "version": 3
   },
   "file_extension": ".py",
   "mimetype": "text/x-python",
   "name": "python",
   "nbconvert_exporter": "python",
   "pygments_lexer": "ipython3",
   "version": "3.12.3"
  }
 },
 "nbformat": 4,
 "nbformat_minor": 5
}
